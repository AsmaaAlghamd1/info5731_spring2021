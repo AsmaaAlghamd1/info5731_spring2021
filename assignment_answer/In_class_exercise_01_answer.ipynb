{
 "cells": [
  {
   "cell_type": "markdown",
   "metadata": {
    "colab_type": "text",
    "id": "view-in-github"
   },
   "source": [
    "<a href=\"https://colab.research.google.com/github/unt-iialab/INFO5731_Spring2020/blob/master/In_class_exercise/In_class_exercise_01_answer.ipynb\" target=\"_parent\"><img src=\"https://colab.research.google.com/assets/colab-badge.svg\" alt=\"Open In Colab\"/></a>"
   ]
  },
  {
   "cell_type": "markdown",
   "metadata": {
    "colab_type": "text",
    "id": "DymRJbxDBCnf"
   },
   "source": [
    "# **The first In-class-exercise (reference answer) (9/2/2020, 20 points in total)**"
   ]
  },
  {
   "cell_type": "markdown",
   "metadata": {
    "colab_type": "text",
    "id": "03jb4GZsBkBS"
   },
   "source": [
    "(1) Write a Python program to calculate the length of a string. (2 points)"
   ]
  },
  {
   "cell_type": "code",
   "execution_count": 1,
   "metadata": {
    "colab": {
     "base_uri": "https://localhost:8080/",
     "height": 34
    },
    "colab_type": "code",
    "id": "YaGLbSHHB8Ej",
    "outputId": "3a1d2f88-158a-4eab-f643-f26a44b21da1"
   },
   "outputs": [
    {
     "name": "stdout",
     "output_type": "stream",
     "text": [
      "14\n"
     ]
    }
   ],
   "source": [
    "# write your answer here\n",
    "\n",
    "def string_length(str1):\n",
    "    count = 0\n",
    "    for char in str1:\n",
    "        count += 1\n",
    "    return count\n",
    "print(string_length('w3resource.com'))\n"
   ]
  },
  {
   "cell_type": "markdown",
   "metadata": {
    "colab_type": "text",
    "id": "jJDe71iLB616"
   },
   "source": [
    "(2) Write a Python program to count the number of characters in a string. (2 points)\n",
    "\n",
    "Sample String : 'google.com‘, \n",
    "\n",
    "Expected Result : {'o': 3, 'g': 2, '.': 1, 'e': 1, 'l': 1, 'm': 1, 'c': 1}"
   ]
  },
  {
   "cell_type": "code",
   "execution_count": 2,
   "metadata": {
    "colab": {
     "base_uri": "https://localhost:8080/",
     "height": 34
    },
    "colab_type": "code",
    "id": "MtKskTzbCLaU",
    "outputId": "0783d587-6dee-45f4-e172-8cd9cb55e25d"
   },
   "outputs": [
    {
     "name": "stdout",
     "output_type": "stream",
     "text": [
      "Expected Result: {'o': 3, 'g': 2, 'l': 1, 'e': 1, '.': 1, 'c': 1, 'm': 1}\n"
     ]
    }
   ],
   "source": [
    "# write your answer here\n",
    "\n",
    "import operator\n",
    "\n",
    "def stringToDict(str1):\n",
    "  str_dict = dict()\n",
    "  for i in str1:\n",
    "    count = 0\n",
    "    for s in str1:\n",
    "      if i == s:\n",
    "        count += 1\n",
    "    str_dict[i] = count\n",
    "  sorted_d = dict( sorted(str_dict.items(), key=operator.itemgetter(1),reverse=True))\n",
    "  return sorted_d\n",
    "\n",
    "# Declaring an input string and calling above function\n",
    "string = \"google.com\"\n",
    "print(\"Expected Result:\", stringToDict(string))\n"
   ]
  },
  {
   "cell_type": "markdown",
   "metadata": {
    "colab_type": "text",
    "id": "55W9AMdXCSpV"
   },
   "source": [
    "(3) Write a Python program to sum all the items in a list. (2 points)"
   ]
  },
  {
   "cell_type": "code",
   "execution_count": 6,
   "metadata": {
    "colab": {
     "base_uri": "https://localhost:8080/",
     "height": 34
    },
    "colab_type": "code",
    "id": "I57NXsauCec2",
    "outputId": "76584089-11c1-4936-cc45-3132097d3bae"
   },
   "outputs": [
    {
     "name": "stdout",
     "output_type": "stream",
     "text": [
      "-5\n"
     ]
    }
   ],
   "source": [
    "# write your answer here\n",
    "\n",
    "def sum_list(items):  \n",
    "    sum_numbers = 0  \n",
    "    for x in items:  \n",
    "        sum_numbers += x  \n",
    "    return sum_numbers  \n",
    "print(sum_list([1,2,-8]))"
   ]
  },
  {
   "cell_type": "markdown",
   "metadata": {
    "colab_type": "text",
    "id": "4ulBZ6yhCi9F"
   },
   "source": [
    "(4) Write a Python program to get a string from a given string where all occurrences of its first char have been changed to '\\$', except the first char itself. (2 points)\n",
    "\n",
    "Sample String : 'restart‘, \n",
    "\n",
    "Expected Result : 'resta\\$t'"
   ]
  },
  {
   "cell_type": "code",
   "execution_count": 5,
   "metadata": {
    "colab": {
     "base_uri": "https://localhost:8080/",
     "height": 34
    },
    "colab_type": "code",
    "id": "Fj0XhwbBCw2o",
    "outputId": "d79a4d6c-bbc1-4cc3-9aec-9d970fea5ce0"
   },
   "outputs": [
    {
     "name": "stdout",
     "output_type": "stream",
     "text": [
      "resta$t\n"
     ]
    }
   ],
   "source": [
    "# write your answer here\n",
    "\n",
    "def change_char(str1):  \n",
    "  char = str1[0]  \n",
    "  length = len(str1)  \n",
    "  str1 = str1.replace(char, '$')  \n",
    "  str1 = char + str1[1:]  \n",
    "  \n",
    "  return str1  \n",
    "  \n",
    "print(change_char('restart'))"
   ]
  },
  {
   "cell_type": "markdown",
   "metadata": {
    "colab_type": "text",
    "id": "_bIP7s1MCzue"
   },
   "source": [
    "(5) Write a program with python which could accept two parameter a and b to calculate and output the result of S, where \n",
    "\n",
    "$\\ S=3.14*(1+a/b)^3$ (3 points)\n",
    "\n"
   ]
  },
  {
   "cell_type": "code",
   "execution_count": 7,
   "metadata": {
    "colab": {
     "base_uri": "https://localhost:8080/",
     "height": 68
    },
    "colab_type": "code",
    "id": "w79QilHXD3Mg",
    "outputId": "ec194088-a859-4acb-aafa-6acbdac2f131"
   },
   "outputs": [
    {
     "name": "stdout",
     "output_type": "stream",
     "text": [
      "Please enter a value for a : 5\n",
      "Please enter a value for b : 7\n",
      " Expected result :  15.81900874635569\n"
     ]
    }
   ],
   "source": [
    "# write your answer here\n",
    "\n",
    "# Using funtion to throw 'Divide by Zero' error\n",
    "def error(error_desc):\n",
    "  print(error_desc)\n",
    "  return\n",
    "\n",
    "# Using funtion to accept two parameters to calculate the given output\n",
    "def calculate_S(a, b):\n",
    "  if b == 0:\n",
    "    error(\"Runtime Error: Attempt to divide by zero\")\n",
    "  return 3.14 * (1 + a/b)**3\n",
    "\n",
    "#intializing a & b variables through keyboard input\n",
    "parameter_a = int(input(\"Please enter a value for a : \"))\n",
    "parameter_b = int(input(\"Please enter a value for b : \"))\n",
    "\n",
    "#Calling the above functions and printing results \n",
    "print(\" Expected result : \", calculate_S(parameter_a, parameter_b))"
   ]
  },
  {
   "cell_type": "markdown",
   "metadata": {
    "colab_type": "text",
    "id": "xCa2bK9aD4Q3"
   },
   "source": [
    "(6) Write a Python program to concatenate following dictionaries to create a new one. (3 points)\n",
    "\n",
    "Sample Dictionary : dic1={1:10, 2:20}, dic2={3:30, 4:40}, dic3={5:50,6:60}, \n",
    "\n",
    "Expected Result : {1: 10, 2: 20, 3: 30, 4: 40, 5: 50, 6: 60}\n"
   ]
  },
  {
   "cell_type": "code",
   "execution_count": 8,
   "metadata": {
    "colab": {
     "base_uri": "https://localhost:8080/",
     "height": 34
    },
    "colab_type": "code",
    "id": "_z4aLqAbEET1",
    "outputId": "0ff41490-2877-4e50-c1b4-3861e3b1a27f"
   },
   "outputs": [
    {
     "name": "stdout",
     "output_type": "stream",
     "text": [
      "{1: 10, 2: 20, 3: 30, 4: 40, 5: 50, 6: 60}\n"
     ]
    }
   ],
   "source": [
    "# write your answer here\n",
    "\n",
    "dic1={1:10, 2:20}  \n",
    "dic2={3:30, 4:40}  \n",
    "dic3={5:50,6:60}  \n",
    "dic4 = {}  \n",
    "for d in (dic1, dic2, dic3): dic4.update(d)  \n",
    "print(dic4)"
   ]
  },
  {
   "cell_type": "markdown",
   "metadata": {
    "colab_type": "text",
    "id": "0v48Vqa7FrQh"
   },
   "source": [
    "(7) Write a Python program to check whether an element exists within a tuple. (3 points)"
   ]
  },
  {
   "cell_type": "code",
   "execution_count": 9,
   "metadata": {
    "colab": {
     "base_uri": "https://localhost:8080/",
     "height": 51
    },
    "colab_type": "code",
    "id": "7WEmgq-DF2P1",
    "outputId": "74536676-ab93-4c40-ae96-baf568375375"
   },
   "outputs": [
    {
     "name": "stdout",
     "output_type": "stream",
     "text": [
      "True\n",
      "False\n"
     ]
    }
   ],
   "source": [
    "# write your answer here\n",
    "\n",
    "tuplex = (\"w\", 3, \"r\", \"e\", \"s\", \"o\", \"u\", \"r\", \"c\", \"e\")\n",
    "print(\"r\" in tuplex)\n",
    "print(5 in tuplex)"
   ]
  },
  {
   "cell_type": "markdown",
   "metadata": {
    "colab_type": "text",
    "id": "vD5PYLMuGga_"
   },
   "source": [
    "(8) Write a Python program to find maximum and the minimum value in a set. (3 points)"
   ]
  },
  {
   "cell_type": "code",
   "execution_count": 12,
   "metadata": {
    "colab": {
     "base_uri": "https://localhost:8080/",
     "height": 51
    },
    "colab_type": "code",
    "id": "t0D5kdJUGjjw",
    "outputId": "4ccec8d9-962b-4d1e-9bb6-a33b48700697"
   },
   "outputs": [
    {
     "name": "stdout",
     "output_type": "stream",
     "text": [
      "20\n",
      "2\n"
     ]
    }
   ],
   "source": [
    "# write your answer here\n",
    "#Create a set\n",
    "seta = set([5, 10, 3, 15, 2, 20])\n",
    "#Find maximum value\n",
    "print(max(seta))\n",
    "#Find minimum value\n",
    "print(min(seta))"
   ]
  },
  {
   "cell_type": "markdown",
   "metadata": {
    "colab_type": "text",
    "id": "uHkd-y5VhVWC"
   },
   "source": [
    "(9) Write a Python program to randomly divide the students in this class into five groups for term projects. Here is the students list: (3 points extra)\n",
    "\n",
    "studnet_list = ['vmb0067','pc0353','snd0097','yye0005','sg0940','bk0301','rak0120','rrk0058','spk0057','vl0135','nm0547','pn0159', 'msp0174','dd0420','ds0761','rs0850','ss1995','at0739','at0768','mv0299','tv0119','dy0091']"
   ]
  },
  {
   "cell_type": "code",
   "execution_count": 13,
   "metadata": {
    "colab": {
     "base_uri": "https://localhost:8080/",
     "height": 85
    },
    "colab_type": "code",
    "id": "3iGbmcOBhTwy",
    "outputId": "0630c934-f4e8-45d7-d81d-5b94b03e2797"
   },
   "outputs": [
    {
     "name": "stdout",
     "output_type": "stream",
     "text": [
      "[5, 4, 5, 4, 4]\n",
      "Group 1:  ['bk0301', 'dy0091', 'nm0547', 'spk0057']\n",
      "Group 2:  ['vmb0067', 'pc0353', 'sg0940', 'snd0097', 'yye0005']\n",
      "Group 3:  ['dd0420', 'vl0135', 'rs0850', 'rak0120']\n",
      "Group 4:  ['mv0299', 'pn0159', 'ds0761', 'at0739', 'ss1995']\n",
      "Group 5:  ['at0768', 'msp0174', 'tv0119', 'rrk0058']\n"
     ]
    }
   ],
   "source": [
    "# write your answer here\n",
    "import random\n",
    "#sampling with replacement\n",
    "studnet_list = ['vmb0067','pc0353','snd0097','yye0005','sg0940','bk0301','rak0120','rrk0058',\n",
    "                'spk0057','vl0135','nm0547','pn0159', 'msp0174','dd0420','ds0761','rs0850',\n",
    "                'ss1995','at0739','at0768','mv0299','tv0119','dy0091']\n",
    "group_size = []\n",
    "for i in range(5):\n",
    "    group_size.append(random.randint(3,5))\n",
    "\n",
    "# make sure that the sum of the group size is 22\n",
    "if sum(group_size) == len(studnet_list):\n",
    "    print(group_size)\n",
    "    for j in range(5):\n",
    "      sampling = random.sample(studnet_list,group_size[j-1])\n",
    "      studnet_list = [j for j in studnet_list if j not in sampling]\n",
    "      print(\"Group \" +str(j+1)+\": \", sampling)"
   ]
  },
  {
   "cell_type": "code",
   "execution_count": null,
   "metadata": {},
   "outputs": [],
   "source": []
  }
 ],
 "metadata": {
  "colab": {
   "collapsed_sections": [],
   "include_colab_link": true,
   "name": "In_class_exercise_01.ipynb",
   "provenance": []
  },
  "kernelspec": {
   "display_name": "Python 3",
   "language": "python",
   "name": "python3"
  },
  "language_info": {
   "codemirror_mode": {
    "name": "ipython",
    "version": 3
   },
   "file_extension": ".py",
   "mimetype": "text/x-python",
   "name": "python",
   "nbconvert_exporter": "python",
   "pygments_lexer": "ipython3",
   "version": "3.7.4"
  }
 },
 "nbformat": 4,
 "nbformat_minor": 1
}
